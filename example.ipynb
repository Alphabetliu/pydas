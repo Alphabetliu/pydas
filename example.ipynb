{
 "cells": [
  {
   "cell_type": "markdown",
   "metadata": {},
   "source": [
    "# SKLOE PyDAS\n",
    "\n",
    "Copyright &copy; 2018\n",
    "\n",
    "**Contributors:**\n",
    "* Zhichao Fang\n",
    "* Xiaoxian Guo\n",
    "\n",
    "## 简介\n",
    "\n",
    "基于Python3.6环境开发，主要针对FDAS处理后的数据，进行进一步后处理，实现数据读入，数据处理，数据输出。\n",
    "\n",
    "FDAS主要对单个工况数据进行处理，我们希望基于python开发进一步的后处理工具，提高工作效率，并提供python接口，可以实现更多的实时功能。\n",
    "\n",
    "主要应用场景：\n",
    "\n",
    "- 针对不同工况，同一通道的数据横向对比分析\n",
    "- 标准化的批量报表自动生成\n",
    "- 标准化的数据后处理，针对刚度试验，衰减试验\n",
    "- 便捷的自定义数据处理\n",
    "- 应用于自动校波、校风\n",
    "\n",
    "...\n",
    "\n",
    "\n",
    "目前程序托管于GitHub，主页为：https://github.com/JosephFang/pydas\n",
    "\n",
    "\n",
    "目前拥有以下功能：\n",
    "\n",
    "1. out文件读入功能\n",
    "2. 打印文件基本信息到显示屏，txt文本，Excel文本 （包括：段数，通道数，采样频率，采样时间，前标定段信息，各个通道单位，通道名，系数，每段数据的采样点数，起止时间等）\n",
    "3. 打印基本统计信息到显示屏，txt文本，Excel文本 （包括：最大值，最小值，方差，均值，点数等）\n",
    "4. 输出数据至mat文件或.dat文件\n",
    "5. 通道单位修复（原out文件通道单位不能超过4个字符）\n",
    "6. 实型值转换\n",
    "7. 简单的数据时域统计分析（基于Pandas）\n",
    "8. 校波文件读入与波浪自动对齐相位\n",
    "\n",
    "正在开发功能：\n",
    "\n",
    "- 波浪数据频、时域分析（基于WAFO）\n",
    "- 静刚度试验模块\n",
    "\n",
    "待开发功能：\n",
    "\n",
    "- 运动数据读入与自动对齐相位\n",
    "- out文件写入（或使用通用二进制文件）\n",
    "- 标准化报表自动生成（pdf,latex）\n",
    "- 标准化波浪数据频域分析\n",
    "- 标准化衰减试验模块\n",
    "\n",
    "系统要求：\n",
    "\n",
    "- Python >= 3.6.3\n",
    "- Numpy >= 1.13\n",
    "- Pandas >= 0.20.3\n",
    "- Matplotlib >= 2.1.0\n",
    "- Scipy >= 0.19.1\n",
    "\n",
    "Windows下强烈推荐使用[Anaconda](https://www.anaconda.com)构建Python科学计算环境。\n",
    "\n",
    "读入数据后，数据类型为pandas.DataFrame，基于pandas库的各种函数均可调用，请发挥你的想象力。\n",
    "\n",
    "Pandas documents: https://pandas.pydata.org\n",
    "\n",
    "后续版本将基于WAFO开发统计处理模块，包括时域分析，频谱转换，极值预报，统计模型检验，疲劳分析等。\n",
    "\n",
    "强烈推荐WAFO模块（Matlab, Python）: http://www.maths.lth.se/matstat/wafo/\n",
    "\n",
    "更多功能会陆续推出，欢迎大家在Github平台参与代码开发\n",
    "\n",
    "如有任何问题请联系：[xiaoxguo@sjtu.edu.cn](mailto:xiaoxguo@sjtu.edu.cn)"
   ]
  },
  {
   "cell_type": "markdown",
   "metadata": {},
   "source": [
    "## 运行环境检测与数据读入"
   ]
  },
  {
   "cell_type": "code",
   "execution_count": 1,
   "metadata": {},
   "outputs": [],
   "source": [
    "# 读入skloe_out库，进行操作\n",
    "from casedata import *\n",
    "from statisana import *\n",
    "\n",
    "# 导入必要的依赖库\n",
    "import sys\n",
    "import numpy as np\n",
    "import pandas as pd\n",
    "import matplotlib\n",
    "import scipy\n",
    "\n",
    "# 图片显示\n",
    "%matplotlib inline"
   ]
  },
  {
   "cell_type": "code",
   "execution_count": 2,
   "metadata": {},
   "outputs": [
    {
     "name": "stdout",
     "output_type": "stream",
     "text": [
      "Python version 3.6.4 (default, Jan  6 2018, 11:51:59) \n",
      "[GCC 4.2.1 Compatible Apple LLVM 9.0.0 (clang-900.0.39.2)]\n",
      "Numpy version 1.14.0\n",
      "Pandas version 0.22.0\n",
      "Matplotlib version 2.1.1\n",
      "Scipy version 1.0.0\n"
     ]
    }
   ],
   "source": [
    "# 检查python 运行环境\n",
    "print('Python version ' + sys.version)\n",
    "print('Numpy version ' + np.__version__)\n",
    "print('Pandas version ' + pd.__version__)\n",
    "print('Matplotlib version ' + matplotlib.__version__)\n",
    "print('Scipy version ' + scipy.__version__)"
   ]
  },
  {
   "cell_type": "code",
   "execution_count": 3,
   "metadata": {},
   "outputs": [
    {
     "name": "stdout",
     "output_type": "stream",
     "text": [
      "Opening file test.out\n"
     ]
    }
   ],
   "source": [
    "# 读入.out文件\n",
    "case = CaseData('test.out')"
   ]
  },
  {
   "cell_type": "markdown",
   "metadata": {},
   "source": [
    "读入文件时可以选择读入所有段或指定数据段，默认读入所有数据段\n",
    "\n",
    "如需读入某一个特定数据段：\n",
    "\n",
    "```python\n",
    "case = Skloe_OutFile('test.out', s_seg=1) #读入第一段, \n",
    "```\n",
    "\n",
    "注意，`s_seg`从0开始计数，第0段为前标定段，第1段为第一段数据\n",
    "\n",
    "## 数据基本信息显示\n",
    "\n",
    "读入out文件后，case可以直接查看一些信息，例如："
   ]
  },
  {
   "cell_type": "code",
   "execution_count": 4,
   "metadata": {},
   "outputs": [
    {
     "data": {
      "text/plain": [
       "3"
      ]
     },
     "execution_count": 4,
     "metadata": {},
     "output_type": "execute_result"
    }
   ],
   "source": [
    "# 查看通道数\n",
    "case.chN"
   ]
  },
  {
   "cell_type": "markdown",
   "metadata": {},
   "source": [
    "这种方法，还可以查看以下相关信息：\n",
    "\n",
    "- `sd1.segN`          数据段数\n",
    "- `sd1.fs`            采样频率\n",
    "- `sd1.scale`         数据类型 'prototype' or 'model'\n",
    "- `sd1.filename`      读入数据文件名\n",
    "- `sd1.date`          数据采样日期 MM-DD\n",
    "- `sd1.data`          数据（采用`pandas.dataFrame`格式）\n",
    "- `sd1.chInfo`        各个通道相关信息（通道号，通道名称，通道单位，通道转换系数）\n",
    "- `sd1.segInfo`       各个数据段相关信息（段号，各段数据起止时间，采样数，采样时间，备注）\n",
    "- `sd1.seg_statictis` 各段数据统计值显示（最大值，最小值，方程，均值）"
   ]
  },
  {
   "cell_type": "code",
   "execution_count": 5,
   "metadata": {
    "scrolled": true
   },
   "outputs": [
    {
     "data": {
      "text/html": [
       "<div>\n",
       "<style scoped>\n",
       "    .dataframe tbody tr th:only-of-type {\n",
       "        vertical-align: middle;\n",
       "    }\n",
       "\n",
       "    .dataframe tbody tr th {\n",
       "        vertical-align: top;\n",
       "    }\n",
       "\n",
       "    .dataframe thead th {\n",
       "        text-align: right;\n",
       "    }\n",
       "</style>\n",
       "<table border=\"1\" class=\"dataframe\">\n",
       "  <thead>\n",
       "    <tr style=\"text-align: right;\">\n",
       "      <th></th>\n",
       "      <th>Name</th>\n",
       "      <th>Unit</th>\n",
       "      <th>Coef</th>\n",
       "    </tr>\n",
       "  </thead>\n",
       "  <tbody>\n",
       "    <tr>\n",
       "      <th>Ch01</th>\n",
       "      <td>wave.front</td>\n",
       "      <td>cm</td>\n",
       "      <td>0.000617</td>\n",
       "    </tr>\n",
       "    <tr>\n",
       "      <th>Ch02</th>\n",
       "      <td>wave.center</td>\n",
       "      <td>cm</td>\n",
       "      <td>0.000771</td>\n",
       "    </tr>\n",
       "    <tr>\n",
       "      <th>Ch03</th>\n",
       "      <td>wave.back</td>\n",
       "      <td>cm</td>\n",
       "      <td>0.000908</td>\n",
       "    </tr>\n",
       "  </tbody>\n",
       "</table>\n",
       "</div>"
      ],
      "text/plain": [
       "             Name Unit      Coef\n",
       "Ch01   wave.front   cm  0.000617\n",
       "Ch02  wave.center   cm  0.000771\n",
       "Ch03    wave.back   cm  0.000908"
      ]
     },
     "execution_count": 5,
     "metadata": {},
     "output_type": "execute_result"
    }
   ],
   "source": [
    "# 查看通道信息\n",
    "case.chInfo"
   ]
  },
  {
   "cell_type": "code",
   "execution_count": 6,
   "metadata": {},
   "outputs": [
    {
     "data": {
      "text/html": [
       "<div>\n",
       "<style scoped>\n",
       "    .dataframe tbody tr th:only-of-type {\n",
       "        vertical-align: middle;\n",
       "    }\n",
       "\n",
       "    .dataframe tbody tr th {\n",
       "        vertical-align: top;\n",
       "    }\n",
       "\n",
       "    .dataframe thead th {\n",
       "        text-align: right;\n",
       "    }\n",
       "</style>\n",
       "<table border=\"1\" class=\"dataframe\">\n",
       "  <thead>\n",
       "    <tr style=\"text-align: right;\">\n",
       "      <th></th>\n",
       "      <th>Start</th>\n",
       "      <th>Stop</th>\n",
       "      <th>Duration</th>\n",
       "      <th>N sample</th>\n",
       "      <th>Note</th>\n",
       "    </tr>\n",
       "  </thead>\n",
       "  <tbody>\n",
       "    <tr>\n",
       "      <th>Seg00</th>\n",
       "      <td>13:57:48</td>\n",
       "      <td>13:58:08</td>\n",
       "      <td>20.0s</td>\n",
       "      <td>4000</td>\n",
       "      <td>0</td>\n",
       "    </tr>\n",
       "    <tr>\n",
       "      <th>Seg01</th>\n",
       "      <td>13:59:34</td>\n",
       "      <td>14:00:14</td>\n",
       "      <td>39.8s</td>\n",
       "      <td>7950</td>\n",
       "      <td>1.00s-12.70cm-7.00m-22.00s</td>\n",
       "    </tr>\n",
       "    <tr>\n",
       "      <th>Seg02</th>\n",
       "      <td>14:10:00</td>\n",
       "      <td>14:10:37</td>\n",
       "      <td>36.5s</td>\n",
       "      <td>7295</td>\n",
       "      <td>1.20s-7.49cm-7.00m-18.00s</td>\n",
       "    </tr>\n",
       "    <tr>\n",
       "      <th>Seg03</th>\n",
       "      <td>14:18:06</td>\n",
       "      <td>14:18:44</td>\n",
       "      <td>37.4s</td>\n",
       "      <td>7473</td>\n",
       "      <td>1.20s-10.53cm-7.00m-18.00s</td>\n",
       "    </tr>\n",
       "  </tbody>\n",
       "</table>\n",
       "</div>"
      ],
      "text/plain": [
       "          Start      Stop   Duration  N sample                        Note\n",
       "Seg00  13:57:48  13:58:08      20.0s      4000                           0\n",
       "Seg01  13:59:34  14:00:14      39.8s      7950  1.00s-12.70cm-7.00m-22.00s\n",
       "Seg02  14:10:00  14:10:37      36.5s      7295   1.20s-7.49cm-7.00m-18.00s\n",
       "Seg03  14:18:06  14:18:44      37.4s      7473  1.20s-10.53cm-7.00m-18.00s"
      ]
     },
     "execution_count": 6,
     "metadata": {},
     "output_type": "execute_result"
    }
   ],
   "source": [
    "# 查看各个数据段信息\n",
    "case.segInfo"
   ]
  },
  {
   "cell_type": "code",
   "execution_count": 7,
   "metadata": {},
   "outputs": [
    {
     "data": {
      "text/html": [
       "<div>\n",
       "<style scoped>\n",
       "    .dataframe tbody tr th:only-of-type {\n",
       "        vertical-align: middle;\n",
       "    }\n",
       "\n",
       "    .dataframe tbody tr th {\n",
       "        vertical-align: top;\n",
       "    }\n",
       "\n",
       "    .dataframe thead th {\n",
       "        text-align: right;\n",
       "    }\n",
       "</style>\n",
       "<table border=\"1\" class=\"dataframe\">\n",
       "  <thead>\n",
       "    <tr style=\"text-align: right;\">\n",
       "      <th></th>\n",
       "      <th>wave.front</th>\n",
       "      <th>wave.center</th>\n",
       "      <th>wave.back</th>\n",
       "    </tr>\n",
       "  </thead>\n",
       "  <tbody>\n",
       "    <tr>\n",
       "      <th>0.000</th>\n",
       "      <td>0.034552</td>\n",
       "      <td>0.033942</td>\n",
       "      <td>-0.026335</td>\n",
       "    </tr>\n",
       "    <tr>\n",
       "      <th>0.005</th>\n",
       "      <td>0.040722</td>\n",
       "      <td>0.039341</td>\n",
       "      <td>-0.021794</td>\n",
       "    </tr>\n",
       "    <tr>\n",
       "      <th>0.010</th>\n",
       "      <td>0.029616</td>\n",
       "      <td>0.047827</td>\n",
       "      <td>-0.022702</td>\n",
       "    </tr>\n",
       "    <tr>\n",
       "      <th>0.015</th>\n",
       "      <td>0.016042</td>\n",
       "      <td>0.040113</td>\n",
       "      <td>-0.019070</td>\n",
       "    </tr>\n",
       "    <tr>\n",
       "      <th>0.020</th>\n",
       "      <td>0.009872</td>\n",
       "      <td>0.050912</td>\n",
       "      <td>-0.021794</td>\n",
       "    </tr>\n",
       "  </tbody>\n",
       "</table>\n",
       "</div>"
      ],
      "text/plain": [
       "       wave.front  wave.center  wave.back\n",
       "0.000    0.034552     0.033942  -0.026335\n",
       "0.005    0.040722     0.039341  -0.021794\n",
       "0.010    0.029616     0.047827  -0.022702\n",
       "0.015    0.016042     0.040113  -0.019070\n",
       "0.020    0.009872     0.050912  -0.021794"
      ]
     },
     "execution_count": 7,
     "metadata": {},
     "output_type": "execute_result"
    }
   ],
   "source": [
    "# 直接查看数据 第零段前5行\n",
    "case.data[0].head(5)"
   ]
  },
  {
   "cell_type": "markdown",
   "metadata": {},
   "source": [
    "## 数据调用相关\n",
    "\n",
    "由于数据格式采用`pandas.DataFrame`格式，可以十分方便的进行数据引用，行索引为时间，列索引为通道名\n",
    "\n",
    "数据引用采用以下格式：\n",
    "\n",
    "```python\n",
    "case.data[n]['channel name']\n",
    "```\n",
    "\n",
    "n为第几段数据，后面直接引用通道名即可，通道名部分还可以给`list`，如`['F.line1','wave1']`同时提取多列指定数据，更加丰富的数据索引方法，参见pandas支持文档。\n",
    "\n",
    "基于此，可以直接利用pandas库丰富的内建函数，实现简单的数理统计，以下为一些例子，请发挥你的想象力：\n",
    "\n",
    "pandas documents online:http://pandas.pydata.org/pandas-docs/stable/"
   ]
  },
  {
   "cell_type": "code",
   "execution_count": 8,
   "metadata": {
    "scrolled": true
   },
   "outputs": [
    {
     "data": {
      "text/plain": [
       "wave.front    -0.070272\n",
       "wave.center   -0.124577\n",
       "wave.back     -0.120691\n",
       "dtype: float64"
      ]
     },
     "execution_count": 8,
     "metadata": {},
     "output_type": "execute_result"
    }
   ],
   "source": [
    "#显示第1段数据所有通道平均值 \n",
    "case.data[1].mean()"
   ]
  },
  {
   "cell_type": "code",
   "execution_count": 9,
   "metadata": {
    "scrolled": true
   },
   "outputs": [
    {
     "data": {
      "text/html": [
       "<div>\n",
       "<style scoped>\n",
       "    .dataframe tbody tr th:only-of-type {\n",
       "        vertical-align: middle;\n",
       "    }\n",
       "\n",
       "    .dataframe tbody tr th {\n",
       "        vertical-align: top;\n",
       "    }\n",
       "\n",
       "    .dataframe thead th {\n",
       "        text-align: right;\n",
       "    }\n",
       "</style>\n",
       "<table border=\"1\" class=\"dataframe\">\n",
       "  <thead>\n",
       "    <tr style=\"text-align: right;\">\n",
       "      <th></th>\n",
       "      <th>wave.front</th>\n",
       "      <th>wave.center</th>\n",
       "      <th>wave.back</th>\n",
       "    </tr>\n",
       "  </thead>\n",
       "  <tbody>\n",
       "    <tr>\n",
       "      <th>count</th>\n",
       "      <td>7950.000000</td>\n",
       "      <td>7950.000000</td>\n",
       "      <td>7950.000000</td>\n",
       "    </tr>\n",
       "    <tr>\n",
       "      <th>mean</th>\n",
       "      <td>-0.070272</td>\n",
       "      <td>-0.124577</td>\n",
       "      <td>-0.120691</td>\n",
       "    </tr>\n",
       "    <tr>\n",
       "      <th>std</th>\n",
       "      <td>1.321669</td>\n",
       "      <td>1.438878</td>\n",
       "      <td>1.313419</td>\n",
       "    </tr>\n",
       "    <tr>\n",
       "      <th>min</th>\n",
       "      <td>-6.787000</td>\n",
       "      <td>-7.293587</td>\n",
       "      <td>-6.610968</td>\n",
       "    </tr>\n",
       "    <tr>\n",
       "      <th>25%</th>\n",
       "      <td>-0.193584</td>\n",
       "      <td>-0.269990</td>\n",
       "      <td>-0.264030</td>\n",
       "    </tr>\n",
       "    <tr>\n",
       "      <th>50%</th>\n",
       "      <td>-0.059232</td>\n",
       "      <td>-0.042427</td>\n",
       "      <td>-0.042681</td>\n",
       "    </tr>\n",
       "    <tr>\n",
       "      <th>75%</th>\n",
       "      <td>0.073423</td>\n",
       "      <td>0.038570</td>\n",
       "      <td>0.040864</td>\n",
       "    </tr>\n",
       "    <tr>\n",
       "      <th>max</th>\n",
       "      <td>7.745201</td>\n",
       "      <td>8.262465</td>\n",
       "      <td>8.137484</td>\n",
       "    </tr>\n",
       "  </tbody>\n",
       "</table>\n",
       "</div>"
      ],
      "text/plain": [
       "        wave.front  wave.center    wave.back\n",
       "count  7950.000000  7950.000000  7950.000000\n",
       "mean     -0.070272    -0.124577    -0.120691\n",
       "std       1.321669     1.438878     1.313419\n",
       "min      -6.787000    -7.293587    -6.610968\n",
       "25%      -0.193584    -0.269990    -0.264030\n",
       "50%      -0.059232    -0.042427    -0.042681\n",
       "75%       0.073423     0.038570     0.040864\n",
       "max       7.745201     8.262465     8.137484"
      ]
     },
     "execution_count": 9,
     "metadata": {},
     "output_type": "execute_result"
    }
   ],
   "source": [
    "#显示第1段数据相关数理统计信息\n",
    "case.data[1].describe()"
   ]
  },
  {
   "cell_type": "code",
   "execution_count": 10,
   "metadata": {},
   "outputs": [
    {
     "data": {
      "text/plain": [
       "<matplotlib.axes._subplots.AxesSubplot at 0x1092e2b70>"
      ]
     },
     "execution_count": 10,
     "metadata": {},
     "output_type": "execute_result"
    },
    {
     "data": {
      "image/png": "[encoded data removed]",
      "text/plain": [
       "<matplotlib.figure.Figure at 0x1092e2710>"
      ]
     },
     "metadata": {},
     "output_type": "display_data"
    }
   ],
   "source": [
    "# 数据显示\n",
    "case.data[1]['wave.front'].plot()"
   ]
  },
  {
   "cell_type": "markdown",
   "metadata": {},
   "source": [
    "## 数据导出\n",
    "\n",
    "数据导出提供以下两个直接可以用的方法：\n",
    "\n",
    "1. `case.to_dat(s_seg = 'all')` 默认导出所有段，或可导出指定段\n",
    "2. `case.to_mat(s_seg = 0)` 这里请输入正整数，导出为包含该段所有信息的.mat文件\n",
    "\n",
    "以上两种方法，生成的文件均保存在运行文件目录下。\n",
    "\n",
    "除此之外，还可直接利用pandas函数导出特定段，特定通道数据，例如:\n",
    "\n",
    "```python\n",
    "case.data[0]['F.line1'].to_csv('sd1.dat') # 导出第0段F.line1到*.dat文件\n",
    "```\n",
    "\n",
    "这种情况下，可以转存数据到TXT，EXCEL，HTML...\n",
    "\n",
    "数据段信息也可导出或查看，提供以下直接可用的方法(可以打印到显示屏，TXT，EXCEL(下一版本会支持打印到粘贴版)):\n",
    "\n",
    "1. `case.pInfo(printTxt=False,printExcel=False)`打印段落信息\n",
    "2. `case.pChInfo(printTxt=False,printExcel=False)`打印通道信息\n",
    "3. `case.pst(printTxt=False,printExcel=False)`打印统计值信息\n"
   ]
  },
  {
   "cell_type": "code",
   "execution_count": 11,
   "metadata": {},
   "outputs": [
    {
     "name": "stdout",
     "output_type": "stream",
     "text": [
      "Export: /Users/zhichao/Research/Program/Python/pydas/test_seg00.txt\n",
      "Export: /Users/zhichao/Research/Program/Python/pydas/testseg00.mat\n"
     ]
    }
   ],
   "source": [
    "# 导出到*.dat\n",
    "case.to_dat(s_seg = 0)\n",
    "\n",
    "# 导出到*.mat\n",
    "case.to_mat(s_seg = 0)"
   ]
  },
  {
   "cell_type": "markdown",
   "metadata": {},
   "source": [
    "## 实型值数据转换\n",
    "\n",
    "目前可以根据输入各个通道单位，实现实型值转换，步骤如下：\n",
    "\n",
    "1. 请检查读取单位是否有误，原out文件单位仅能占4个字节，故超过四个字节单位要修复，如deg/s2，kg.cm等\n",
    "\n",
    "    检查通道：sd1.pChInfo()\n",
    "    \n",
    "    检查是否已经转换：sd1.scale\n",
    "\n",
    "2. 修复单位，请用以下方法：sd1.fix_unit(c_chN=['Ch36','Ch35'],unit=['kg.cm','kg.cm']) #修改36，37通道单位为kg.cm\n",
    "    \n",
    "3. 转换数据到实型值：sd1.to_fullscale()\n",
    "\n",
    "注意，一经转换所有信息将变为实型值，以上提到的针对数据处理的方法均可用，通道转换可识别所有常用单位。"
   ]
  },
  {
   "cell_type": "code",
   "execution_count": 12,
   "metadata": {},
   "outputs": [
    {
     "ename": "KeyError",
     "evalue": "\"['Ch36' 'Ch35'] not in index\"",
     "output_type": "error",
     "traceback": [
      "\u001b[0;31m---------------------------------------------------------------------------\u001b[0m",
      "\u001b[0;31mKeyError\u001b[0m                                  Traceback (most recent call last)",
      "\u001b[0;32m<ipython-input-12-36f4cb171323>\u001b[0m in \u001b[0;36m<module>\u001b[0;34m()\u001b[0m\n\u001b[0;32m----> 1\u001b[0;31m \u001b[0mcase\u001b[0m\u001b[0;34m.\u001b[0m\u001b[0mfix_unit\u001b[0m\u001b[0;34m(\u001b[0m\u001b[0mc_chN\u001b[0m\u001b[0;34m=\u001b[0m\u001b[0;34m[\u001b[0m\u001b[0;34m'Ch36'\u001b[0m\u001b[0;34m,\u001b[0m\u001b[0;34m'Ch35'\u001b[0m\u001b[0;34m]\u001b[0m\u001b[0;34m,\u001b[0m \u001b[0munit\u001b[0m\u001b[0;34m=\u001b[0m\u001b[0;34m[\u001b[0m\u001b[0;34m'kg.cm'\u001b[0m\u001b[0;34m,\u001b[0m\u001b[0;34m'kg.cm'\u001b[0m\u001b[0;34m]\u001b[0m\u001b[0;34m)\u001b[0m\u001b[0;34m\u001b[0m\u001b[0m\n\u001b[0m",
      "\u001b[0;32m~/Research/Program/Python/pydas/casedata.py\u001b[0m in \u001b[0;36mfix_unit\u001b[0;34m(self, c_chN, unit, pInfo)\u001b[0m\n\u001b[1;32m    320\u001b[0m \u001b[0;34m\u001b[0m\u001b[0m\n\u001b[1;32m    321\u001b[0m     \u001b[0;32mdef\u001b[0m \u001b[0mfix_unit\u001b[0m\u001b[0;34m(\u001b[0m\u001b[0mself\u001b[0m\u001b[0;34m,\u001b[0m \u001b[0mc_chN\u001b[0m\u001b[0;34m,\u001b[0m \u001b[0munit\u001b[0m\u001b[0;34m,\u001b[0m \u001b[0mpInfo\u001b[0m\u001b[0;34m=\u001b[0m\u001b[0;32mFalse\u001b[0m\u001b[0;34m)\u001b[0m\u001b[0;34m:\u001b[0m\u001b[0;34m\u001b[0m\u001b[0m\n\u001b[0;32m--> 322\u001b[0;31m         \u001b[0mself\u001b[0m\u001b[0;34m.\u001b[0m\u001b[0mchInfo\u001b[0m\u001b[0;34m[\u001b[0m\u001b[0;34m'Unit'\u001b[0m\u001b[0;34m]\u001b[0m\u001b[0;34m.\u001b[0m\u001b[0mloc\u001b[0m\u001b[0;34m[\u001b[0m\u001b[0mc_chN\u001b[0m\u001b[0;34m]\u001b[0m \u001b[0;34m=\u001b[0m \u001b[0munit\u001b[0m\u001b[0;34m\u001b[0m\u001b[0m\n\u001b[0m\u001b[1;32m    323\u001b[0m         \u001b[0;32mif\u001b[0m \u001b[0mpInfo\u001b[0m\u001b[0;34m:\u001b[0m\u001b[0;34m\u001b[0m\u001b[0m\n\u001b[1;32m    324\u001b[0m             \u001b[0mprint\u001b[0m\u001b[0;34m(\u001b[0m\u001b[0;34m'-'\u001b[0m \u001b[0;34m*\u001b[0m \u001b[0;36m50\u001b[0m\u001b[0;34m)\u001b[0m\u001b[0;34m\u001b[0m\u001b[0m\n",
      "\u001b[0;32m~/Library/Python/3.6/lib/python/site-packages/pandas/core/indexing.py\u001b[0m in \u001b[0;36m__setitem__\u001b[0;34m(self, key, value)\u001b[0m\n\u001b[1;32m    191\u001b[0m         \u001b[0;32melse\u001b[0m\u001b[0;34m:\u001b[0m\u001b[0;34m\u001b[0m\u001b[0m\n\u001b[1;32m    192\u001b[0m             \u001b[0mkey\u001b[0m \u001b[0;34m=\u001b[0m \u001b[0mcom\u001b[0m\u001b[0;34m.\u001b[0m\u001b[0m_apply_if_callable\u001b[0m\u001b[0;34m(\u001b[0m\u001b[0mkey\u001b[0m\u001b[0;34m,\u001b[0m \u001b[0mself\u001b[0m\u001b[0;34m.\u001b[0m\u001b[0mobj\u001b[0m\u001b[0;34m)\u001b[0m\u001b[0;34m\u001b[0m\u001b[0m\n\u001b[0;32m--> 193\u001b[0;31m         \u001b[0mindexer\u001b[0m \u001b[0;34m=\u001b[0m \u001b[0mself\u001b[0m\u001b[0;34m.\u001b[0m\u001b[0m_get_setitem_indexer\u001b[0m\u001b[0;34m(\u001b[0m\u001b[0mkey\u001b[0m\u001b[0;34m)\u001b[0m\u001b[0;34m\u001b[0m\u001b[0m\n\u001b[0m\u001b[1;32m    194\u001b[0m         \u001b[0mself\u001b[0m\u001b[0;34m.\u001b[0m\u001b[0m_setitem_with_indexer\u001b[0m\u001b[0;34m(\u001b[0m\u001b[0mindexer\u001b[0m\u001b[0;34m,\u001b[0m \u001b[0mvalue\u001b[0m\u001b[0;34m)\u001b[0m\u001b[0;34m\u001b[0m\u001b[0m\n\u001b[1;32m    195\u001b[0m \u001b[0;34m\u001b[0m\u001b[0m\n",
      "\u001b[0;32m~/Library/Python/3.6/lib/python/site-packages/pandas/core/indexing.py\u001b[0m in \u001b[0;36m_get_setitem_indexer\u001b[0;34m(self, key)\u001b[0m\n\u001b[1;32m    177\u001b[0m \u001b[0;34m\u001b[0m\u001b[0m\n\u001b[1;32m    178\u001b[0m         \u001b[0;32mtry\u001b[0m\u001b[0;34m:\u001b[0m\u001b[0;34m\u001b[0m\u001b[0m\n\u001b[0;32m--> 179\u001b[0;31m             \u001b[0;32mreturn\u001b[0m \u001b[0mself\u001b[0m\u001b[0;34m.\u001b[0m\u001b[0m_convert_to_indexer\u001b[0m\u001b[0;34m(\u001b[0m\u001b[0mkey\u001b[0m\u001b[0;34m,\u001b[0m \u001b[0mis_setter\u001b[0m\u001b[0;34m=\u001b[0m\u001b[0;32mTrue\u001b[0m\u001b[0;34m)\u001b[0m\u001b[0;34m\u001b[0m\u001b[0m\n\u001b[0m\u001b[1;32m    180\u001b[0m         \u001b[0;32mexcept\u001b[0m \u001b[0mTypeError\u001b[0m \u001b[0;32mas\u001b[0m \u001b[0me\u001b[0m\u001b[0;34m:\u001b[0m\u001b[0;34m\u001b[0m\u001b[0m\n\u001b[1;32m    181\u001b[0m \u001b[0;34m\u001b[0m\u001b[0m\n",
      "\u001b[0;32m~/Library/Python/3.6/lib/python/site-packages/pandas/core/indexing.py\u001b[0m in \u001b[0;36m_convert_to_indexer\u001b[0;34m(self, obj, axis, is_setter)\u001b[0m\n\u001b[1;32m   1267\u001b[0m                 \u001b[0;32mif\u001b[0m \u001b[0mmask\u001b[0m\u001b[0;34m.\u001b[0m\u001b[0many\u001b[0m\u001b[0;34m(\u001b[0m\u001b[0;34m)\u001b[0m\u001b[0;34m:\u001b[0m\u001b[0;34m\u001b[0m\u001b[0m\n\u001b[1;32m   1268\u001b[0m                     raise KeyError('{mask} not in index'\n\u001b[0;32m-> 1269\u001b[0;31m                                    .format(mask=objarr[mask]))\n\u001b[0m\u001b[1;32m   1270\u001b[0m \u001b[0;34m\u001b[0m\u001b[0m\n\u001b[1;32m   1271\u001b[0m                 \u001b[0;32mreturn\u001b[0m \u001b[0m_values_from_object\u001b[0m\u001b[0;34m(\u001b[0m\u001b[0mindexer\u001b[0m\u001b[0;34m)\u001b[0m\u001b[0;34m\u001b[0m\u001b[0m\n",
      "\u001b[0;31mKeyError\u001b[0m: \"['Ch36' 'Ch35'] not in index\""
     ]
    }
   ],
   "source": [
    "case.fix_unit(c_chN=['Ch36','Ch35'], unit=['kg.cm','kg.cm'])"
   ]
  },
  {
   "cell_type": "code",
   "execution_count": null,
   "metadata": {},
   "outputs": [],
   "source": [
    "case.to_fullscale()"
   ]
  },
  {
   "cell_type": "code",
   "execution_count": null,
   "metadata": {
    "scrolled": true
   },
   "outputs": [],
   "source": [
    "case.pChInfo()"
   ]
  },
  {
   "cell_type": "code",
   "execution_count": 20,
   "metadata": {},
   "outputs": [
    {
     "data": {
      "text/plain": [
       "[<matplotlib.lines.Line2D at 0x109f94390>]"
      ]
     },
     "execution_count": 20,
     "metadata": {},
     "output_type": "execute_result"
    },
    {
     "data": {
      "image/png": "[encoded data removed]",
      "text/plain": [
       "<matplotlib.figure.Figure at 0x109f94c88>"
      ]
     },
     "metadata": {},
     "output_type": "display_data"
    }
   ],
   "source": [
    "i = cresti(case.data[1]['wave.front'], mpd=50, mph=0.1)\n",
    "ax = case.data[1]['wave.front'].loc[15:25].plot()\n",
    "ax.plot(case.data[1].index[i], case.data[1]['wave.front'].iloc[i], ls='', marker='x')"
   ]
  },
  {
   "cell_type": "code",
   "execution_count": null,
   "metadata": {},
   "outputs": [],
   "source": [
    "dx = np.array([0.021595, 0.009255, 0.007404])\n",
    "np.concatenate((dx, [0]))"
   ]
  },
  {
   "cell_type": "code",
   "execution_count": 29,
   "metadata": {},
   "outputs": [
    {
     "data": {
      "text/html": [
       "<div>\n",
       "<style scoped>\n",
       "    .dataframe tbody tr th:only-of-type {\n",
       "        vertical-align: middle;\n",
       "    }\n",
       "\n",
       "    .dataframe tbody tr th {\n",
       "        vertical-align: top;\n",
       "    }\n",
       "\n",
       "    .dataframe thead th {\n",
       "        text-align: right;\n",
       "    }\n",
       "</style>\n",
       "<table border=\"1\" class=\"dataframe\">\n",
       "  <thead>\n",
       "    <tr style=\"text-align: right;\">\n",
       "      <th></th>\n",
       "      <th>wave.front</th>\n",
       "      <th>wave.center</th>\n",
       "      <th>wave.back</th>\n",
       "    </tr>\n",
       "  </thead>\n",
       "  <tbody>\n",
       "    <tr>\n",
       "      <th>0.000</th>\n",
       "      <td>0.034552</td>\n",
       "      <td>0.033942</td>\n",
       "      <td>-0.026335</td>\n",
       "    </tr>\n",
       "    <tr>\n",
       "      <th>0.005</th>\n",
       "      <td>0.040722</td>\n",
       "      <td>0.039341</td>\n",
       "      <td>-0.021794</td>\n",
       "    </tr>\n",
       "    <tr>\n",
       "      <th>0.010</th>\n",
       "      <td>0.029616</td>\n",
       "      <td>0.047827</td>\n",
       "      <td>-0.022702</td>\n",
       "    </tr>\n",
       "    <tr>\n",
       "      <th>0.015</th>\n",
       "      <td>0.016042</td>\n",
       "      <td>0.040113</td>\n",
       "      <td>-0.019070</td>\n",
       "    </tr>\n",
       "    <tr>\n",
       "      <th>0.020</th>\n",
       "      <td>0.009872</td>\n",
       "      <td>0.050912</td>\n",
       "      <td>-0.021794</td>\n",
       "    </tr>\n",
       "    <tr>\n",
       "      <th>0.025</th>\n",
       "      <td>0.024680</td>\n",
       "      <td>0.044741</td>\n",
       "      <td>-0.023611</td>\n",
       "    </tr>\n",
       "    <tr>\n",
       "      <th>0.030</th>\n",
       "      <td>0.038254</td>\n",
       "      <td>0.048598</td>\n",
       "      <td>-0.024519</td>\n",
       "    </tr>\n",
       "    <tr>\n",
       "      <th>0.035</th>\n",
       "      <td>0.052445</td>\n",
       "      <td>0.063255</td>\n",
       "      <td>-0.024519</td>\n",
       "    </tr>\n",
       "    <tr>\n",
       "      <th>0.040</th>\n",
       "      <td>0.062317</td>\n",
       "      <td>0.060169</td>\n",
       "      <td>-0.038140</td>\n",
       "    </tr>\n",
       "    <tr>\n",
       "      <th>0.045</th>\n",
       "      <td>0.059849</td>\n",
       "      <td>0.049370</td>\n",
       "      <td>-0.033600</td>\n",
       "    </tr>\n",
       "  </tbody>\n",
       "</table>\n",
       "</div>"
      ],
      "text/plain": [
       "       wave.front  wave.center  wave.back\n",
       "0.000    0.034552     0.033942  -0.026335\n",
       "0.005    0.040722     0.039341  -0.021794\n",
       "0.010    0.029616     0.047827  -0.022702\n",
       "0.015    0.016042     0.040113  -0.019070\n",
       "0.020    0.009872     0.050912  -0.021794\n",
       "0.025    0.024680     0.044741  -0.023611\n",
       "0.030    0.038254     0.048598  -0.024519\n",
       "0.035    0.052445     0.063255  -0.024519\n",
       "0.040    0.062317     0.060169  -0.038140\n",
       "0.045    0.059849     0.049370  -0.033600"
      ]
     },
     "execution_count": 29,
     "metadata": {},
     "output_type": "execute_result"
    }
   ],
   "source": [
    "case.data[0].loc[:0.046]"
   ]
  },
  {
   "cell_type": "code",
   "execution_count": null,
   "metadata": {},
   "outputs": [],
   "source": [
    "case.data[0].index"
   ]
  },
  {
   "cell_type": "code",
   "execution_count": null,
   "metadata": {},
   "outputs": [],
   "source": []
  }
 ],
 "metadata": {
  "kernelspec": {
   "display_name": "Python 3",
   "language": "python",
   "name": "python3"
  },
  "language_info": {
   "codemirror_mode": {
    "name": "ipython",
    "version": 3
   },
   "file_extension": ".py",
   "mimetype": "text/x-python",
   "name": "python",
   "nbconvert_exporter": "python",
   "pygments_lexer": "ipython3",
   "version": "3.6.4"
  }
 },
 "nbformat": 4,
 "nbformat_minor": 2
}
